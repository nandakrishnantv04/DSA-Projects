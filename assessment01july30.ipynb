{
  "metadata": {
    "kernelspec": {
      "name": "xpython",
      "display_name": "Python 3.13 (XPython)",
      "language": "python"
    },
    "language_info": {
      "file_extension": ".py",
      "mimetype": "text/x-python",
      "name": "python",
      "version": "3.13.1"
    }
  },
  "nbformat_minor": 5,
  "nbformat": 4,
  "cells": [
    {
      "id": "228a66ef-3ca5-4cb4-be85-def3724372dd",
      "cell_type": "code",
      "source": "\n# 1.1 To simulate a dataset of 10 sales records as a list of dictionaries.\nsales_data = [\n    {\n        \"order_id\": 1001,\n        \"customer\": \"Rahul\",\n        \"item\": \"Laptop\",\n        \"quantity\": 1,\n        \"price_per_item\": 65000.00,\n        \"order_date\": \"2025-07-20\"\n    },\n    {\n        \"order_id\": 1002,\n        \"customer\": \"Manu\",\n        \"item\": \"Mouse\",\n        \"quantity\": 1,\n        \"price_per_item\": 1000.00,\n        \"order_date\": \"2025-07-20\"\n    },\n    {\n        \"order_id\": 1003,\n        \"customer\": \"Akhil\",\n        \"item\": \"Keyboard\",\n        \"quantity\": 1,\n        \"price_per_item\": 1500.00,\n        \"order_date\": \"2025-07-21\"\n    },\n    {\n        \"order_id\": 1004,\n        \"customer\": \"Yadav\",\n        \"item\": \"Monitor\",\n        \"quantity\": 1,\n        \"price_per_item\": 15000.00,\n        \"order_date\": \"2025-07-21\"\n    },\n    {\n        \"order_id\": 1005,\n        \"customer\": \"Soman\",\n        \"item\": \"Webcam\",\n        \"quantity\": 1,\n        \"price_per_item\": 1200.00,\n        \"order_date\": \"2025-07-22\"\n    },\n    {\n        \"order_id\": 1006,\n        \"customer\": \"Krishna\",\n        \"item\": \"Laptop Bag\",\n        \"quantity\": 1,\n        \"price_per_item\": 1800.00,\n        \"order_date\": \"2025-07-22\"\n    },\n    {\n        \"order_id\": 1007,\n        \"customer\": \"Sreerag\",\n        \"item\": \"Headphones\",\n        \"quantity\": 1,\n        \"price_per_item\": 3500.00,\n        \"order_date\": \"2025-07-23\"\n    },\n    {\n        \"order_id\": 1008,\n        \"customer\": \"Rilsha\",\n        \"item\": \"USB Drive\",\n        \"quantity\": 1,\n        \"price_per_item\": 1000.00,\n        \"order_date\": \"2025-07-23\"\n    },\n    {\n        \"order_id\": 1009,\n        \"customer\": \"Arjun\",\n        \"item\": \"Gaming Chair\",\n        \"quantity\": 1,\n        \"price_per_item\": 12000.00,\n        \"order_date\": \"2025-07-24\"\n    },\n    {\n        \"order_id\": 1010,\n        \"customer\": \"Anand\",\n        \"item\": \"External SSD\",\n        \"quantity\": 2,\n        \"price_per_item\": 5000.00,\n        \"order_date\": \"2025-07-24\"\n    }\n]\n\n# Print out the dataset\nprint(\"ShopEase Sales Transaction Dataset:\\n\")\nfor record in sales_data:\n    print(record)",
      "metadata": {
        "trusted": true
      },
      "outputs": [
        {
          "name": "stdout",
          "output_type": "stream",
          "text": "ShopEase Sales Transaction Dataset:\n\n{'order_id': 1001, 'customer': 'Rahul', 'item': 'Laptop', 'quantity': 1, 'price_per_item': 65000.0, 'order_date': '2025-07-20'}\n{'order_id': 1002, 'customer': 'Manu', 'item': 'Mouse', 'quantity': 1, 'price_per_item': 1000.0, 'order_date': '2025-07-20'}\n{'order_id': 1003, 'customer': 'Akhil', 'item': 'Keyboard', 'quantity': 1, 'price_per_item': 1500.0, 'order_date': '2025-07-21'}\n{'order_id': 1004, 'customer': 'Yadav', 'item': 'Monitor', 'quantity': 1, 'price_per_item': 15000.0, 'order_date': '2025-07-21'}\n{'order_id': 1005, 'customer': 'Soman', 'item': 'Webcam', 'quantity': 1, 'price_per_item': 1200.0, 'order_date': '2025-07-22'}\n{'order_id': 1006, 'customer': 'Krishna', 'item': 'Laptop Bag', 'quantity': 1, 'price_per_item': 1800.0, 'order_date': '2025-07-22'}\n{'order_id': 1007, 'customer': 'Sreerag', 'item': 'Headphones', 'quantity': 1, 'price_per_item': 3500.0, 'order_date': '2025-07-23'}\n{'order_id': 1008, 'customer': 'Rilsha', 'item': 'USB Drive', 'quantity': 1, 'price_per_item': 1000.0, 'order_date': '2025-07-23'}\n{'order_id': 1009, 'customer': 'Arjun', 'item': 'Gaming Chair', 'quantity': 1, 'price_per_item': 12000.0, 'order_date': '2025-07-24'}\n{'order_id': 1010, 'customer': 'Anand', 'item': 'External SSD', 'quantity': 2, 'price_per_item': 5000.0, 'order_date': '2025-07-24'}\n"
        }
      ],
      "execution_count": 41
    },
    {
      "id": "88c6da1f-f6d5-4495-ba44-9737db1be12c",
      "cell_type": "code",
      "source": "# 2.1 - to calculate the total revenue for the store\n\ntotal_revenue = 0\n\nfor record in sales_data:\n    subtotal = record[\"quantity\"] * record[\"price_per_item\"]\n    total_revenue += subtotal\n\nprint(f\"Total Revenue for ShopEase: INR {total_revenue:.2f}\")",
      "metadata": {
        "trusted": true
      },
      "outputs": [
        {
          "name": "stdout",
          "output_type": "stream",
          "text": "Total Revenue for ShopEase: INR 112000.00\n"
        }
      ],
      "execution_count": 42
    },
    {
      "id": "7b5601e5-6211-4fd9-b60c-6e0b34ec9ebd",
      "cell_type": "code",
      "source": "\n# 2.2 - to Identify all orders where the total order value exceeds ₹2,000.\nhigh_value_orders = []\n\nfor record in sales_data:\n    # To calculate the total value for the current order\n    total_order_value = record[\"quantity\"] * record[\"price_per_item\"]\n\n    # To check if the total order value exceeds ₹2,000\n    if total_order_value > 2000:\n        record_with_total = record.copy()\n        record_with_total['total_order_value'] = total_order_value\n        high_value_orders.append(record_with_total)\n\n# Print the list of high-value orders\nprint(\"Orders with total value exceeding ₹2,000:\\n\")\nif high_value_orders:\n    for order in high_value_orders:\n        print(order)\nelse:\n    print(\"No orders found with total value exceeding ₹2,000.\")",
      "metadata": {
        "trusted": true
      },
      "outputs": [
        {
          "name": "stdout",
          "output_type": "stream",
          "text": "Orders with total value exceeding ₹2,000:\n\n{'order_id': 1001, 'customer': 'Rahul', 'item': 'Laptop', 'quantity': 1, 'price_per_item': 65000.0, 'order_date': '2025-07-20', 'total_order_value': 65000.0}\n{'order_id': 1004, 'customer': 'Yadav', 'item': 'Monitor', 'quantity': 1, 'price_per_item': 15000.0, 'order_date': '2025-07-21', 'total_order_value': 15000.0}\n{'order_id': 1007, 'customer': 'Sreerag', 'item': 'Headphones', 'quantity': 1, 'price_per_item': 3500.0, 'order_date': '2025-07-23', 'total_order_value': 3500.0}\n{'order_id': 1009, 'customer': 'Arjun', 'item': 'Gaming Chair', 'quantity': 1, 'price_per_item': 12000.0, 'order_date': '2025-07-24', 'total_order_value': 12000.0}\n{'order_id': 1010, 'customer': 'Anand', 'item': 'External SSD', 'quantity': 2, 'price_per_item': 5000.0, 'order_date': '2025-07-24', 'total_order_value': 10000.0}\n"
        }
      ],
      "execution_count": 53
    },
    {
      "id": "67621bb1-94b3-40c7-bb81-148eac03beea",
      "cell_type": "code",
      "source": "#2.3- To find the highest total Quantity sold across all orders\nitem_quantities = {}\n\nfor record in sales_data:\n    item = record[\"item\"]\n    quantity = record[\"quantity\"]\n\n    if item in item_quantities:\n        item_quantities[item] += quantity\n    else:\n        item_quantities[item] = quantity\n\n# Find the item with the maximum quantity\nif item_quantities:\n    most_sold_item = max(item_quantities, key=item_quantities.get)\n    highest_quantity = item_quantities[most_sold_item]\n    print(f\"The item with the highest total quantity sold is: '{most_sold_item}' with {highest_quantity} units.\")\nelse:\n    print(\"No sales data available to determine the most sold item.\")",
      "metadata": {
        "trusted": true
      },
      "outputs": [
        {
          "name": "stdout",
          "output_type": "stream",
          "text": "The item with the highest total quantity sold is: 'External SSD' with 2 units.\n"
        }
      ],
      "execution_count": 54
    },
    {
      "id": "169e939d-c021-496c-9e63-02161303eab5",
      "cell_type": "code",
      "source": "def apply_discount(orders, discount_rate):\n    new_orders = []\n    \n    for order in orders:               \n        modified_order = order.copy()\n        modified_order['price_per_item'] = modified_order['price_per_item'] * (1 - discount_rate)\n        \n        new_orders.append(modified_order)\n    return new_orders\n# Apply a 10% discount\ndiscounted_sales_data = apply_discount(sales_data, 0.10)\n\nprint(\"Original Sales Data:\\n\")\nfor i, record in enumerate(sales_data[:10]):\n    print(f\"  {record}\")\n\nprint(\"\\nDiscounted Sales Data:\\n\")\nfor i, record in enumerate(discounted_sales_data[:10]):\n    print(f\"  {record}\")",
      "metadata": {
        "trusted": true
      },
      "outputs": [
        {
          "name": "stdout",
          "output_type": "stream",
          "text": "Original Sales Data:\n\n  {'order_id': 1001, 'customer': 'Rahul', 'item': 'Laptop', 'quantity': 1, 'price_per_item': 65000.0, 'order_date': '2025-07-20'}\n  {'order_id': 1002, 'customer': 'Manu', 'item': 'Mouse', 'quantity': 1, 'price_per_item': 1000.0, 'order_date': '2025-07-20'}\n  {'order_id': 1003, 'customer': 'Akhil', 'item': 'Keyboard', 'quantity': 1, 'price_per_item': 1500.0, 'order_date': '2025-07-21'}\n  {'order_id': 1004, 'customer': 'Yadav', 'item': 'Monitor', 'quantity': 1, 'price_per_item': 15000.0, 'order_date': '2025-07-21'}\n  {'order_id': 1005, 'customer': 'Soman', 'item': 'Webcam', 'quantity': 1, 'price_per_item': 1200.0, 'order_date': '2025-07-22'}\n  {'order_id': 1006, 'customer': 'Krishna', 'item': 'Laptop Bag', 'quantity': 1, 'price_per_item': 1800.0, 'order_date': '2025-07-22'}\n  {'order_id': 1007, 'customer': 'Sreerag', 'item': 'Headphones', 'quantity': 1, 'price_per_item': 3500.0, 'order_date': '2025-07-23'}\n  {'order_id': 1008, 'customer': 'Rilsha', 'item': 'USB Drive', 'quantity': 1, 'price_per_item': 1000.0, 'order_date': '2025-07-23'}\n  {'order_id': 1009, 'customer': 'Arjun', 'item': 'Gaming Chair', 'quantity': 1, 'price_per_item': 12000.0, 'order_date': '2025-07-24'}\n  {'order_id': 1010, 'customer': 'Anand', 'item': 'External SSD', 'quantity': 2, 'price_per_item': 5000.0, 'order_date': '2025-07-24'}\n\nDiscounted Sales Data:\n\n  {'order_id': 1001, 'customer': 'Rahul', 'item': 'Laptop', 'quantity': 1, 'price_per_item': 58500.0, 'order_date': '2025-07-20'}\n  {'order_id': 1002, 'customer': 'Manu', 'item': 'Mouse', 'quantity': 1, 'price_per_item': 900.0, 'order_date': '2025-07-20'}\n  {'order_id': 1003, 'customer': 'Akhil', 'item': 'Keyboard', 'quantity': 1, 'price_per_item': 1350.0, 'order_date': '2025-07-21'}\n  {'order_id': 1004, 'customer': 'Yadav', 'item': 'Monitor', 'quantity': 1, 'price_per_item': 13500.0, 'order_date': '2025-07-21'}\n  {'order_id': 1005, 'customer': 'Soman', 'item': 'Webcam', 'quantity': 1, 'price_per_item': 1080.0, 'order_date': '2025-07-22'}\n  {'order_id': 1006, 'customer': 'Krishna', 'item': 'Laptop Bag', 'quantity': 1, 'price_per_item': 1620.0, 'order_date': '2025-07-22'}\n  {'order_id': 1007, 'customer': 'Sreerag', 'item': 'Headphones', 'quantity': 1, 'price_per_item': 3150.0, 'order_date': '2025-07-23'}\n  {'order_id': 1008, 'customer': 'Rilsha', 'item': 'USB Drive', 'quantity': 1, 'price_per_item': 900.0, 'order_date': '2025-07-23'}\n  {'order_id': 1009, 'customer': 'Arjun', 'item': 'Gaming Chair', 'quantity': 1, 'price_per_item': 10800.0, 'order_date': '2025-07-24'}\n  {'order_id': 1010, 'customer': 'Anand', 'item': 'External SSD', 'quantity': 2, 'price_per_item': 4500.0, 'order_date': '2025-07-24'}\n"
        }
      ],
      "execution_count": 55
    },
    {
      "id": "e6884906-5fca-4ac5-9bcf-c14063af68aa",
      "cell_type": "code",
      "source": "class OrderIterator:\n\n",
      "metadata": {
        "trusted": true
      },
      "outputs": [
        {
          "ename": "<class 'SyntaxError'>",
          "evalue": "'break' outside loop (4286981681.py, line 19)",
          "traceback": [
            "  \u001b[36mCell\u001b[39m\u001b[36m \u001b[39m\u001b[32mIn[72]\u001b[39m\u001b[32m, line 19\u001b[39m\n\u001b[31m    \u001b[39m\u001b[31mbreak\u001b[39m\n    ^\n\u001b[31mSyntaxError\u001b[39m\u001b[31m:\u001b[39m 'break' outside loop\n"
          ],
          "output_type": "error"
        }
      ],
      "execution_count": 64
    },
    {
      "id": "42429b38-4ebc-4627-a5a1-04f381bc54b1",
      "cell_type": "code",
      "source": "# 4.2 \nunique_customers = {record['customer'] for record in sales_data}\n\norders_by_customer = {\n    customer: [record for record in sales_data if record['customer'] == customer]\n    for customer in unique_customers\n}\n\nprint(\"Orders grouped by customer:\\n\")\nfor customer, orders in orders_by_customer.items():\n    print(f\"Customer: {customer}\")\n    for order in orders:\n        print(f\"  - Order ID: {order['order_id']}, Item: {order['item']}, Quantity: {order['quantity']}, Price: {order['price_per_item']}\")\n    print(\"-\" * 30) ",
      "metadata": {
        "trusted": true,
        "scrolled": true
      },
      "outputs": [
        {
          "name": "stdout",
          "output_type": "stream",
          "text": "Orders grouped by customer:\n\nCustomer: Anand\n  - Order ID: 1010, Item: External SSD, Quantity: 2, Price: 5000.0\n------------------------------\nCustomer: Manu\n  - Order ID: 1002, Item: Mouse, Quantity: 1, Price: 1000.0\n------------------------------\nCustomer: Rilsha\n  - Order ID: 1008, Item: USB Drive, Quantity: 1, Price: 1000.0\n------------------------------\nCustomer: Akhil\n  - Order ID: 1003, Item: Keyboard, Quantity: 1, Price: 1500.0\n------------------------------\nCustomer: Krishna\n  - Order ID: 1006, Item: Laptop Bag, Quantity: 1, Price: 1800.0\n------------------------------\nCustomer: Yadav\n  - Order ID: 1004, Item: Monitor, Quantity: 1, Price: 15000.0\n------------------------------\nCustomer: Arjun\n  - Order ID: 1009, Item: Gaming Chair, Quantity: 1, Price: 12000.0\n------------------------------\nCustomer: Sreerag\n  - Order ID: 1007, Item: Headphones, Quantity: 1, Price: 3500.0\n------------------------------\nCustomer: Rahul\n  - Order ID: 1001, Item: Laptop, Quantity: 1, Price: 65000.0\n------------------------------\nCustomer: Soman\n  - Order ID: 1005, Item: Webcam, Quantity: 1, Price: 1200.0\n------------------------------\n"
        }
      ],
      "execution_count": 58
    },
    {
      "id": "50dbe07a-206a-4e50-92d4-2746b4d74a30",
      "cell_type": "code",
      "source": "",
      "metadata": {
        "trusted": true
      },
      "outputs": [],
      "execution_count": null
    }
  ]
}