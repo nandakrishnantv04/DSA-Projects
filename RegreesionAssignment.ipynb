{
 "cells": [
  {
   "cell_type": "markdown",
   "id": "0b64b5e2-7f99-42c4-8e16-739368959254",
   "metadata": {},
   "source": [
    "### Linear Regression"
   ]
  },
  {
   "cell_type": "code",
   "execution_count": 227,
   "id": "66b7890e-1a08-4f41-a089-5e37d533206c",
   "metadata": {},
   "outputs": [],
   "source": [
    "import pandas as pd\n",
    "import numpy as np\n",
    "import matplotlib.pyplot as plt\n",
    "import seaborn as sns"
   ]
  },
  {
   "cell_type": "code",
   "execution_count": 228,
   "id": "d290623e-1c18-490e-941f-eeda4f640283",
   "metadata": {},
   "outputs": [],
   "source": [
    "data = pd.read_csv(r\"C:\\Users\\Lenovo\\OneDrive\\Desktop\\nandu\\shokam\\ictak\\car_age_price.csv\")"
   ]
  },
  {
   "cell_type": "code",
   "execution_count": 229,
   "id": "36ebb771-d6d8-4996-9812-970c996f4643",
   "metadata": {},
   "outputs": [
    {
     "data": {
      "text/html": [
       "<div>\n",
       "<style scoped>\n",
       "    .dataframe tbody tr th:only-of-type {\n",
       "        vertical-align: middle;\n",
       "    }\n",
       "\n",
       "    .dataframe tbody tr th {\n",
       "        vertical-align: top;\n",
       "    }\n",
       "\n",
       "    .dataframe thead th {\n",
       "        text-align: right;\n",
       "    }\n",
       "</style>\n",
       "<table border=\"1\" class=\"dataframe\">\n",
       "  <thead>\n",
       "    <tr style=\"text-align: right;\">\n",
       "      <th></th>\n",
       "      <th>Year</th>\n",
       "      <th>Price</th>\n",
       "    </tr>\n",
       "  </thead>\n",
       "  <tbody>\n",
       "    <tr>\n",
       "      <th>0</th>\n",
       "      <td>2018</td>\n",
       "      <td>465000</td>\n",
       "    </tr>\n",
       "    <tr>\n",
       "      <th>1</th>\n",
       "      <td>2019</td>\n",
       "      <td>755000</td>\n",
       "    </tr>\n",
       "    <tr>\n",
       "      <th>2</th>\n",
       "      <td>2019</td>\n",
       "      <td>700000</td>\n",
       "    </tr>\n",
       "    <tr>\n",
       "      <th>3</th>\n",
       "      <td>2018</td>\n",
       "      <td>465000</td>\n",
       "    </tr>\n",
       "    <tr>\n",
       "      <th>4</th>\n",
       "      <td>2018</td>\n",
       "      <td>465000</td>\n",
       "    </tr>\n",
       "  </tbody>\n",
       "</table>\n",
       "</div>"
      ],
      "text/plain": [
       "   Year   Price\n",
       "0  2018  465000\n",
       "1  2019  755000\n",
       "2  2019  700000\n",
       "3  2018  465000\n",
       "4  2018  465000"
      ]
     },
     "execution_count": 229,
     "metadata": {},
     "output_type": "execute_result"
    }
   ],
   "source": [
    "data.head()"
   ]
  },
  {
   "cell_type": "code",
   "execution_count": 230,
   "id": "4bd81706-fe2c-4331-bad7-8175b2011460",
   "metadata": {},
   "outputs": [
    {
     "data": {
      "text/plain": [
       "(112, 2)"
      ]
     },
     "execution_count": 230,
     "metadata": {},
     "output_type": "execute_result"
    }
   ],
   "source": [
    "data.shape"
   ]
  },
  {
   "cell_type": "code",
   "execution_count": 231,
   "id": "78cf95d3-6fcd-4ae4-8fc1-d4bf05e65006",
   "metadata": {},
   "outputs": [
    {
     "data": {
      "text/plain": [
       "Year     0\n",
       "Price    0\n",
       "dtype: int64"
      ]
     },
     "execution_count": 231,
     "metadata": {},
     "output_type": "execute_result"
    }
   ],
   "source": [
    "data.isna().sum()"
   ]
  },
  {
   "cell_type": "code",
   "execution_count": 232,
   "id": "95eb31f5-e613-41dd-83bc-ba190ed7b935",
   "metadata": {},
   "outputs": [],
   "source": [
    "x = data.drop(['Price'], axis =1)\n",
    "y = data['Price']"
   ]
  },
  {
   "cell_type": "code",
   "execution_count": 233,
   "id": "0f26a92b-a837-412d-a88a-2dedb4843add",
   "metadata": {},
   "outputs": [],
   "source": [
    "from sklearn.model_selection import train_test_split\n"
   ]
  },
  {
   "cell_type": "code",
   "execution_count": 234,
   "id": "3947c286-3a0c-4f07-931a-57b406ad6062",
   "metadata": {},
   "outputs": [],
   "source": [
    "x_train,x_test,y_train,y_test = train_test_split(x,y,test_size =0.2,random_state = 42)"
   ]
  },
  {
   "cell_type": "code",
   "execution_count": 235,
   "id": "0642c283-559c-4087-8190-6c3a23580c3e",
   "metadata": {},
   "outputs": [],
   "source": [
    "from sklearn.linear_model import LinearRegression\n",
    "lr = LinearRegression()"
   ]
  },
  {
   "cell_type": "code",
   "execution_count": 236,
   "id": "eb599802-2cbe-45d9-a1fc-ac4705a506b6",
   "metadata": {},
   "outputs": [],
   "source": [
    "model = lr.fit(x_train,y_train)"
   ]
  },
  {
   "cell_type": "code",
   "execution_count": 237,
   "id": "c35717f2-de03-4905-965e-47298883b683",
   "metadata": {},
   "outputs": [],
   "source": [
    "predictions = model.predict(x_test)"
   ]
  },
  {
   "cell_type": "code",
   "execution_count": 238,
   "id": "3a8150dc-a104-4eba-a991-8841bb015619",
   "metadata": {},
   "outputs": [
    {
     "data": {
      "text/plain": [
       "array([600775.91252081, 505558.77690466, 553167.34471273, 553167.34471273,\n",
       "       553167.34471273, 410341.6412885 , 505558.77690466, 553167.34471273,\n",
       "       600775.91252081, 600775.91252081, 315124.50567235, 505558.77690466,\n",
       "       410341.6412885 , 648384.48032889, 553167.34471273, 600775.91252081,\n",
       "       315124.50567235, 410341.6412885 , 505558.77690466, 505558.77690466,\n",
       "       505558.77690466, 505558.77690466, 505558.77690466])"
      ]
     },
     "execution_count": 238,
     "metadata": {},
     "output_type": "execute_result"
    }
   ],
   "source": [
    "predictions"
   ]
  },
  {
   "cell_type": "code",
   "execution_count": 239,
   "id": "e9c963a6-74fb-498f-b8c0-cabbbab6977e",
   "metadata": {},
   "outputs": [],
   "source": [
    "from sklearn.metrics import mean_squared_error, r2_score"
   ]
  },
  {
   "cell_type": "code",
   "execution_count": 240,
   "id": "54455a86-60e2-417b-84ad-877a290bd1eb",
   "metadata": {},
   "outputs": [
    {
     "name": "stdout",
     "output_type": "stream",
     "text": [
      "R Squared value = 0.36759313425902185\n"
     ]
    }
   ],
   "source": [
    "print('R Squared value =' , r2_score(y_test,predictions))"
   ]
  },
  {
   "cell_type": "code",
   "execution_count": 241,
   "id": "14705fc4-57ff-4aa5-b0c9-c8a0eaf38359",
   "metadata": {},
   "outputs": [],
   "source": [
    "year_to_predict = pd.DataFrame([2022], columns=['Year'])"
   ]
  },
  {
   "cell_type": "code",
   "execution_count": 242,
   "id": "63fa3f25-a1d8-4d4f-ad88-2f42ba42d55d",
   "metadata": {},
   "outputs": [],
   "source": [
    "predicted_price = model.predict(year_to_predict)"
   ]
  },
  {
   "cell_type": "code",
   "execution_count": 243,
   "id": "35346774-3499-4301-bf65-49c3b18feb05",
   "metadata": {},
   "outputs": [
    {
     "data": {
      "text/plain": [
       "array([743601.61594504])"
      ]
     },
     "execution_count": 243,
     "metadata": {},
     "output_type": "execute_result"
    }
   ],
   "source": [
    "predicted_price"
   ]
  },
  {
   "cell_type": "markdown",
   "id": "6ab8a240-36b8-4c0b-9e7d-160a2abfb083",
   "metadata": {},
   "source": [
    "### Polynomial"
   ]
  },
  {
   "cell_type": "code",
   "execution_count": 244,
   "id": "ff925a80-eb9a-41ef-9b22-345d47515726",
   "metadata": {},
   "outputs": [],
   "source": [
    "df = pd.read_csv(r\"C:\\Users\\Lenovo\\OneDrive\\Desktop\\nandu\\shokam\\ictak\\car_age_price.csv\")"
   ]
  },
  {
   "cell_type": "code",
   "execution_count": 245,
   "id": "2485a7f2-b646-4401-9ef2-852ec6b24486",
   "metadata": {},
   "outputs": [
    {
     "data": {
      "text/html": [
       "<div>\n",
       "<style scoped>\n",
       "    .dataframe tbody tr th:only-of-type {\n",
       "        vertical-align: middle;\n",
       "    }\n",
       "\n",
       "    .dataframe tbody tr th {\n",
       "        vertical-align: top;\n",
       "    }\n",
       "\n",
       "    .dataframe thead th {\n",
       "        text-align: right;\n",
       "    }\n",
       "</style>\n",
       "<table border=\"1\" class=\"dataframe\">\n",
       "  <thead>\n",
       "    <tr style=\"text-align: right;\">\n",
       "      <th></th>\n",
       "      <th>Year</th>\n",
       "      <th>Price</th>\n",
       "    </tr>\n",
       "  </thead>\n",
       "  <tbody>\n",
       "    <tr>\n",
       "      <th>0</th>\n",
       "      <td>2018</td>\n",
       "      <td>465000</td>\n",
       "    </tr>\n",
       "    <tr>\n",
       "      <th>1</th>\n",
       "      <td>2019</td>\n",
       "      <td>755000</td>\n",
       "    </tr>\n",
       "    <tr>\n",
       "      <th>2</th>\n",
       "      <td>2019</td>\n",
       "      <td>700000</td>\n",
       "    </tr>\n",
       "    <tr>\n",
       "      <th>3</th>\n",
       "      <td>2018</td>\n",
       "      <td>465000</td>\n",
       "    </tr>\n",
       "    <tr>\n",
       "      <th>4</th>\n",
       "      <td>2018</td>\n",
       "      <td>465000</td>\n",
       "    </tr>\n",
       "  </tbody>\n",
       "</table>\n",
       "</div>"
      ],
      "text/plain": [
       "   Year   Price\n",
       "0  2018  465000\n",
       "1  2019  755000\n",
       "2  2019  700000\n",
       "3  2018  465000\n",
       "4  2018  465000"
      ]
     },
     "execution_count": 245,
     "metadata": {},
     "output_type": "execute_result"
    }
   ],
   "source": [
    "df.head()"
   ]
  },
  {
   "cell_type": "code",
   "execution_count": 246,
   "id": "1cdd744a-cc68-456a-9ea3-54d7ddcbd279",
   "metadata": {},
   "outputs": [],
   "source": [
    "x  = df.drop(['Price'], axis =1)\n",
    "y = df['Price']"
   ]
  },
  {
   "cell_type": "code",
   "execution_count": 247,
   "id": "84d959de-a31f-46f3-be39-31baf20cbd32",
   "metadata": {},
   "outputs": [],
   "source": [
    "x_train,x_test,y_train,y_test= train_test_split(x,y, test_size = 0.2, random_state = 42)"
   ]
  },
  {
   "cell_type": "code",
   "execution_count": 248,
   "id": "96bc8548-3f83-485f-a289-211899d03dbc",
   "metadata": {},
   "outputs": [],
   "source": [
    "from sklearn.preprocessing import PolynomialFeatures\n",
    "poly_features = PolynomialFeatures(degree = 2)"
   ]
  },
  {
   "cell_type": "code",
   "execution_count": 249,
   "id": "08f01a97-bf4e-47fa-9cf8-e22dc4d64ce2",
   "metadata": {},
   "outputs": [],
   "source": [
    "x_poly = poly_features.fit_transform(x_train)"
   ]
  },
  {
   "cell_type": "code",
   "execution_count": 250,
   "id": "3f9daf76-0b19-4ee4-a419-83ab9aa149fe",
   "metadata": {},
   "outputs": [],
   "source": [
    "model = lr.fit(x_poly,y_train)"
   ]
  },
  {
   "cell_type": "code",
   "execution_count": 251,
   "id": "f11b33ee-ce06-495d-8e78-90a23b12cca7",
   "metadata": {},
   "outputs": [],
   "source": [
    "x_test_poly = poly_features.fit_transform(x_test)"
   ]
  },
  {
   "cell_type": "code",
   "execution_count": 252,
   "id": "748168e2-45c2-43ef-8b05-28d4f75323a1",
   "metadata": {},
   "outputs": [],
   "source": [
    "predictions = model.predict(x_test_poly)"
   ]
  },
  {
   "cell_type": "code",
   "execution_count": 253,
   "id": "2b8f7711-d212-4853-9571-325141b74d47",
   "metadata": {},
   "outputs": [
    {
     "name": "stdout",
     "output_type": "stream",
     "text": [
      " Mean Squared Error = 4257698271.852013\n",
      "R Squared value = 0.3777083533708031\n"
     ]
    }
   ],
   "source": [
    "print(' Mean Squared Error =' , mean_squared_error(y_test, predictions))\n",
    "print('R Squared value =' , r2_score(y_test,predictions))"
   ]
  },
  {
   "cell_type": "code",
   "execution_count": 254,
   "id": "60071986-5ca5-419f-8e47-f52a613524e1",
   "metadata": {},
   "outputs": [],
   "source": [
    "year_to_predict = pd.DataFrame([2022], columns=['Year'])"
   ]
  },
  {
   "cell_type": "code",
   "execution_count": 255,
   "id": "bccb40b6-4cde-4a71-8b8a-355a5aff9641",
   "metadata": {},
   "outputs": [],
   "source": [
    "year_to_predict_poly = poly_features.transform(year_to_predict)"
   ]
  },
  {
   "cell_type": "code",
   "execution_count": 256,
   "id": "a83fa236-e768-415f-8746-5dab8247774d",
   "metadata": {},
   "outputs": [
    {
     "data": {
      "text/plain": [
       "array([743601.61594504])"
      ]
     },
     "execution_count": 256,
     "metadata": {},
     "output_type": "execute_result"
    }
   ],
   "source": [
    "predicted_price"
   ]
  },
  {
   "cell_type": "code",
   "execution_count": 257,
   "id": "8adfbc3b-21ee-4a7c-9b8f-8cd2bac9b28d",
   "metadata": {},
   "outputs": [],
   "source": [
    "poly_features1 = PolynomialFeatures(degree = 3)\n",
    "x_poly1 = poly_features1.fit_transform(x_train)"
   ]
  },
  {
   "cell_type": "code",
   "execution_count": 258,
   "id": "7c7d13a9-6391-4b7d-acc2-d601ee5b2cc9",
   "metadata": {},
   "outputs": [],
   "source": [
    "lr = LinearRegression()\n",
    "model1 = lr.fit(x_poly1,y_train)"
   ]
  },
  {
   "cell_type": "code",
   "execution_count": 259,
   "id": "a4388a44-fbfc-4b32-ba66-4fc3402efe92",
   "metadata": {},
   "outputs": [],
   "source": [
    "x_test_poly1 = poly_features1.fit_transform(x_test)"
   ]
  },
  {
   "cell_type": "code",
   "execution_count": 260,
   "id": "14ae657a-fd40-4416-b4ab-2d6d551159d0",
   "metadata": {},
   "outputs": [],
   "source": [
    "predictions = model1.predict(x_test_poly1)"
   ]
  },
  {
   "cell_type": "code",
   "execution_count": 261,
   "id": "fa3615c7-3337-4e10-9501-3b783e3fd015",
   "metadata": {},
   "outputs": [
    {
     "name": "stdout",
     "output_type": "stream",
     "text": [
      "R Squared value = 0.31821164351789444\n"
     ]
    }
   ],
   "source": [
    "print('R Squared value =' , r2_score(y_test,predictions))"
   ]
  },
  {
   "cell_type": "markdown",
   "id": "b55655c5-4f5c-4221-bad0-bcc2b3af0d16",
   "metadata": {},
   "source": [
    "### Lasso"
   ]
  },
  {
   "cell_type": "code",
   "execution_count": 269,
   "id": "c865e713-aa0d-441b-8bcf-c29013a99e76",
   "metadata": {},
   "outputs": [],
   "source": [
    "data = pd.read_csv(r\"C:\\Users\\Lenovo\\OneDrive\\Desktop\\nandu\\shokam\\ictak\\car_age_price.csv\")"
   ]
  },
  {
   "cell_type": "code",
   "execution_count": 270,
   "id": "74c8d10f-c8e0-4d25-a770-65a63fc2d39c",
   "metadata": {},
   "outputs": [],
   "source": [
    "x = data.drop(['Price'], axis =1)\n",
    "y = data['Price']"
   ]
  },
  {
   "cell_type": "code",
   "execution_count": 271,
   "id": "06d29226-035e-4cee-84e6-15efd3024aca",
   "metadata": {},
   "outputs": [],
   "source": [
    "x_train,x_test,y_train,y_test = train_test_split(x,y,test_size =0.3,random_state = 42)"
   ]
  },
  {
   "cell_type": "code",
   "execution_count": 272,
   "id": "ce5ec806-ff33-413f-b51b-f33a80281f50",
   "metadata": {},
   "outputs": [],
   "source": [
    "from sklearn import linear_model\n",
    "lasso_reg = linear_model.Lasso(alpha = 50, max_iter = 100, tol = 0.1)\n",
    "model = lasso_reg.fit(x_train,y_train)"
   ]
  },
  {
   "cell_type": "code",
   "execution_count": 273,
   "id": "5b45afe9-a5be-42a5-9f0c-cf7b83d12e06",
   "metadata": {},
   "outputs": [],
   "source": [
    "predictions = model.predict(x_test)"
   ]
  },
  {
   "cell_type": "code",
   "execution_count": 274,
   "id": "f129ae36-8ebc-4e8c-9beb-3f0339e46e85",
   "metadata": {},
   "outputs": [
    {
     "data": {
      "text/plain": [
       "array([598846.43235704, 505703.32416816, 552274.87826259, 552274.87826259,\n",
       "       552274.87826259, 412560.21597928, 505703.32416816, 552274.87826259,\n",
       "       598846.43235704, 598846.43235704, 319417.1077904 , 505703.32416816,\n",
       "       412560.21597928, 645417.98645148, 552274.87826259, 598846.43235704,\n",
       "       319417.1077904 , 412560.21597928, 505703.32416816, 505703.32416816,\n",
       "       505703.32416816, 505703.32416816, 505703.32416816, 505703.32416816,\n",
       "       505703.32416816, 505703.32416816, 412560.21597928, 412560.21597928,\n",
       "       365988.66188483, 412560.21597928, 505703.32416816, 598846.43235704,\n",
       "       552274.87826259, 505703.32416816])"
      ]
     },
     "execution_count": 274,
     "metadata": {},
     "output_type": "execute_result"
    }
   ],
   "source": [
    "predictions\n"
   ]
  },
  {
   "cell_type": "code",
   "execution_count": 275,
   "id": "46332cd2-6d26-4f2f-9584-3e64bc98dbc1",
   "metadata": {},
   "outputs": [
    {
     "name": "stdout",
     "output_type": "stream",
     "text": [
      "R Squared Value = 0.4889279614672908\n"
     ]
    }
   ],
   "source": [
    "print('R Squared Value =' , r2_score(y_test, predictions))"
   ]
  }
 ],
 "metadata": {
  "kernelspec": {
   "display_name": "Python [conda env:base] *",
   "language": "python",
   "name": "conda-base-py"
  },
  "language_info": {
   "codemirror_mode": {
    "name": "ipython",
    "version": 3
   },
   "file_extension": ".py",
   "mimetype": "text/x-python",
   "name": "python",
   "nbconvert_exporter": "python",
   "pygments_lexer": "ipython3",
   "version": "3.13.5"
  }
 },
 "nbformat": 4,
 "nbformat_minor": 5
}
