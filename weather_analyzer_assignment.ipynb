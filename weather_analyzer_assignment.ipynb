{
  "metadata": {
    "kernelspec": {
      "name": "xpython",
      "display_name": "Python 3.13 (XPython)",
      "language": "python"
    },
    "language_info": {
      "file_extension": ".py",
      "mimetype": "text/x-python",
      "name": "python",
      "version": "3.13.1"
    }
  },
  "nbformat_minor": 5,
  "nbformat": 4,
  "cells": [
    {
      "id": "5eb2aa84-02ce-4a3b-96e9-6e9d95de3e2e",
      "cell_type": "code",
      "source": "\nweather_data = []\n\ndef calculate_and_print_averages(data):\n  total_temp = 0.0\n  total_humidity = 0.0\n  num_days = len(data)\n\n  if num_days == 0:\n    print(\"\\n No weather data available\")\n\n  for day in data:\n      total_temp += day ['temperature_celsius']\n      total_humidity += day['humidity_percent']\n\n  avg_temp = total_temp / num_days\n  avg_humidity = total_humidity / num_days\n  print(f\"\\nAverage Temperature: {avg_temp:.2f}\")\n  print(f\"Average Humidity: {avg_humidity:.2f}%\")\n  return avg_temp, avg_humidity\n\n\ndef analyze_daily_conditions(data):\n\n  for day in data:\n    temp = day[\"temperature_celsius\"]\n    humidity = day[\"humidity_percent\"]\n    condition = day[\"condition_summary\"]\n\n    description = f\"Day {day['date']} recorded {day['condition_summary']}:\"\n\n\n    if temp >30:\n      description += \" It was hot \"\n    elif temp>=25:\n      description += \" It was warm\"\n    elif temp >= 18 :\n      description += \" It was cool\"\n    else:\n      description += \" it was cold\"\n\n\n    if humidity > 90:\n      description += \" and extremely humid. \"\n    elif humidity > 80:\n      description += \" and very humid. \"\n    elif humidity > 70:\n      description += \" and was moderately humid. \"\n    else:\n      description += \" with comfortable humidity. \"\n\n\n    if \"rainy\" in condition:\n      description += \" Rainfall was recorded.\"\n    elif \"sunny\" in condition:\n      description +=\" The day was sunny.\"\n    elif \"cloudy\" in condition:\n      description += \" The day was cloudy.\"\n    else:\n      description += \" The day was as observed.\"\n\n    print(description)\n\n\n\nprint(f\"Welcome to the Interactive Weather Data Analyzer \")\nprint(\"You can manually enter weather data for different days.\")\nprint(\"Type 'done' for 'Date' when you are finished adding data.\")\n\nday_number = 1\nwhile True:\n      print(f\"\\n ---Enter Data for Day {day_number}---\")\n      exit_input = input(\"Enter '1' to continue or 'done' to finish: \")\n\n      if exit_input == 'done':\n          break\n\n\n      while True:\n                  temp_input = float(input(\"Enter temperature in Celsius: \"))\n                  if temp_input > 60:\n                    print(\"Temperature is extremely high, please re-enter.\")\n                  break\n                  print(\"Invalid input. Please enter a number for temperature.\")\n\n      while True:\n                  humid_input = float(input(\"Enter Humidity percentage (0-100): \"))\n                  if humid_input < 0 or humid_input > 100:\n                    print(\"Humidity percentage is outside the valid range (0-100), please re-enter.\")\n                  break\n                  print(\"Invalid input. Please enter a number for humidity.\")\n\n      condition_input = input(\"Enter general weather condition (e.g., sunny, rainy, cloudy):\")\n\n      weather_data.append({\n          \"date\" : exit_input,\n          \"temperature_celsius\": temp_input,\n          \"humidity_percent\": humid_input,\n          \"condition_summary\": condition_input\n      })\n\n      avg_temp, avg_humidity = calculate_and_print_averages(weather_data)\n\n      analyze_daily_conditions(weather_data)\n\n      day_number += 1\n\n\n\nprint(\"\\nWeather analysis complete.!! \")",
      "metadata": {
        "trusted": true
      },
      "outputs": [
        {
          "name": "stdout",
          "output_type": "stream",
          "text": "Welcome to the Interactive Weather Data Analyzer \nYou can manually enter weather data for different days.\nType 'done' for 'Date' when you are finished adding data.\n\n ---Enter Data for Day 1---\n"
        },
        {
          "output_type": "stream",
          "name": "stdin",
          "text": "Enter '1' to continue or 'done' to finish:  1\nEnter temperature in Celsius:  32\nEnter Humidity percentage (0-100):  90\nEnter general weather condition (e.g., sunny, rainy, cloudy): sunny\n"
        },
        {
          "name": "stdout",
          "output_type": "stream",
          "text": "\nAverage Temperature: 32.00\nAverage Humidity: 90.00%\nDay 1 recorded sunny: It was hot  and very humid.  The day was sunny.\n\n ---Enter Data for Day 2---\n"
        },
        {
          "output_type": "stream",
          "name": "stdin",
          "text": "Enter '1' to continue or 'done' to finish:  1\nEnter temperature in Celsius:  34\nEnter Humidity percentage (0-100):  78\nEnter general weather condition (e.g., sunny, rainy, cloudy): sunnu\n"
        },
        {
          "name": "stdout",
          "output_type": "stream",
          "text": "\nAverage Temperature: 33.00\nAverage Humidity: 84.00%\nDay 1 recorded sunny: It was hot  and very humid.  The day was sunny.\nDay 1 recorded sunnu: It was hot  and was moderately humid.  The day was as observed.\n\n ---Enter Data for Day 3---\n"
        },
        {
          "output_type": "stream",
          "name": "stdin",
          "text": "Enter '1' to continue or 'done' to finish:  done\n"
        },
        {
          "name": "stdout",
          "output_type": "stream",
          "text": "\nWeather analysis complete.!! \n"
        }
      ],
      "execution_count": 2
    },
    {
      "id": "6c5bd4e1-fcf6-4be5-bc57-c2dd366d2a26",
      "cell_type": "markdown",
      "source": "# ",
      "metadata": {}
    }
  ]
}
