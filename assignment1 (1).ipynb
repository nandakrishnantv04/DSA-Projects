{
  "metadata": {
    "kernelspec": {
      "name": "xpython",
      "display_name": "Python 3.13 (XPython)",
      "language": "python"
    },
    "language_info": {
      "file_extension": ".py",
      "mimetype": "text/x-python",
      "name": "python",
      "version": "3.13.1"
    }
  },
  "nbformat_minor": 5,
  "nbformat": 4,
  "cells": [
    {
      "id": "1235dd66-4cdb-49f1-a64e-95a5f2563711",
      "cell_type": "code",
      "source": "# BankAccountManager = {}\naccount_balance = 0.0\ndef deposit(amount) :\n\n    global account_balance\n    if amount > 0:\n        account_balance += amount\n        print(f\"Deposited: {amount:,.2f}\")\n    else:\n        print(\"Deposited amount must be positive\")\n\ndef withdraw(amount):\n    global account_balance\n    if amount <= 0:\n        print(\"Insufficient balance\")\n    elif amount > account_balance:\n        print(f\"insufficient funds. your current baalance is {account_balance:,.2f}.\")\n    else:\n        account_balance -= amount\n        print(f\"Withdrew:{amount:,.2f}\")\n        display_balance()\n\ndef display_balance():\n    print(f\"current Balance: {account_balance:,.2f}\")\n\nprint(\"Welcome to the Bank Account Mananger!!\")\n\nwhile True:\n    print(\"\\n----Main Menu----\")\n    print(\"1. Deposit Amount\")\n    print(\"2. Withdraw Amount\")\n    print(\"3. Current Balance\")\n    print(\"4. Exit\")\n\n    choice = input(\"Enterr your choice (1-4): \")\n\n    if choice == '1':\n        amount = int(input(\"Enter the amount you want to Deposit\"))\n        deposit(amount)\n\n    elif choice =='2':\n        amount = float(input('Enter the amount you want to withdraw'))\n        withdraw(amount)\n\n    elif choice == '3':\n        display_balance()\n\n    elif choice =='4':\n        print('THankyou for using thhis application')\n        break\n    else:\n        print(\"Invalid choice, Please enter a number between 1 and 4. \")\n    \n\n",
      "metadata": {
        "trusted": true
      },
      "outputs": [
        {
          "name": "stdout",
          "output_type": "stream",
          "text": "Welcome to the Bank Account Mananger!!\n\n----Main Menu----\n1. Deposit Amount\n2. Withdraw Amount\n3. Current Balance\n4. Exit\n"
        },
        {
          "output_type": "stream",
          "name": "stdin",
          "text": "Enterr your choice (1-4):  2\nEnter the amount you want to withdraw 80\n"
        },
        {
          "name": "stdout",
          "output_type": "stream",
          "text": "insufficient funds. your current baalance is 0.00.\n\n----Main Menu----\n1. Deposit Amount\n2. Withdraw Amount\n3. Current Balance\n4. Exit\n"
        }
      ],
      "execution_count": null
    },
    {
      "id": "1930408c-91bb-4f24-805e-60846c09bfd4",
      "cell_type": "markdown",
      "source": "",
      "metadata": {}
    }
  ]
}